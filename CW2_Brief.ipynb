{
 "cells": [
  {
   "cell_type": "markdown",
   "id": "1e51fb46",
   "metadata": {},
   "source": [
    "# Machine Learning Coursework 2\n",
    "\n",
    "For coursework 2 you will be asked to train and evalute several different classifiers: Naïve Bayes classifier, Random Forest classifier, and kNN classifier using the iris dataset. You will be asked to answer a series of questions relating to each individual model and questions comparing each model. \n",
    "\n",
    "#### You are free to use the sklearn library. \n",
    "\n",
    "\n",
    "Notes:\n",
    "- Remember to comment all of your code (see here for tips: https://stackabuse.com/commenting-python-code/). You can also make use of Jupyter Markdown, where appropriate, to improve the layout of your code and documentation.\n",
    "- Please add docstrings to all of your functions (so that users can get information on inputs/outputs and what each function does by typing SHIFT+TAB over the function name. For more detail on python docstrings, see here: https://numpydoc.readthedocs.io/en/latest/format.html)\n",
    "- When a question allows a free-form answer (e.g. what do you observe?), create a new markdown cell below and answer the question in the notebook. \n",
    "- Always save your notebook when you are done (this is not automatic)!\n",
    "- Upload your completed notebook using the VLE\n",
    "\n",
    "Plagiarism: please make sure that the material you submit has been created by you. Any sources you use for code should be properly referenced. Your code will be checked for plagiarism using appropriate software.\n",
    "\n",
    "### Marking \n",
    "\n",
    "The grades in this coursework are allocated approximately as follows:\n",
    "\n",
    "|                                                    | mark  |  \n",
    "|----------------------------------------------------|-------|\n",
    "| Code                                               | 7     |\n",
    "| Code Report/comments                               | 6     |\n",
    "| Model questions                                    | 14    |  \n",
    "| Model comparision questions                        | 18    |\n",
    "| Total available                                    |**45** |  \n",
    "\n",
    "##### Remember to save your notebook as “username_CW2.ipynb”. It is a good idea to re-run the whole thing before saving and submitting. \n",
    "\n",
    "\n",
    "\n",
    "\n",
    "\n",
    "\n",
    "\n",
    "\n"
   ]
  },
  {
   "cell_type": "markdown",
   "id": "fdc37cd7",
   "metadata": {},
   "source": [
    "## 1. Classifiers [7 marks total]\n",
    "Code and train your three classifiers in the cells below the corresponding header. You do not need to implement cross-validation in this coursework, simply fit the data. You are free to use sklearn and other packages where necessary.  \n",
    "\n"
   ]
  },
  {
   "cell_type": "code",
   "execution_count": 9,
   "id": "7a452c30",
   "metadata": {},
   "outputs": [],
   "source": [
    "# import datasets\n",
    "from sklearn import datasets \n",
    "\n",
    "# load data\n",
    "iris = datasets.load_iris() # load data \n",
    "#print(iris.DESCR) # print dataset description"
   ]
  },
  {
   "cell_type": "markdown",
   "id": "922f0653",
   "metadata": {},
   "source": [
    "### 1.1 Naïve Bayes Classifier [2]\n",
    "Train a naïve bayes classifier in python. \n",
    "\n",
    "Use your code to fit the data given above. \n"
   ]
  },
  {
   "cell_type": "code",
   "execution_count": 10,
   "id": "cbfa393b",
   "metadata": {},
   "outputs": [],
   "source": [
    "#Write your code here\n"
   ]
  },
  {
   "cell_type": "markdown",
   "id": "b6bf4c51",
   "metadata": {},
   "source": [
    "### 1.2 Random Forst Classifier [3]\n",
    "Train a random forest classifier in python. Use your code to fit the data given above. \n",
    "\n",
    "Evaluate feature performance of the model. \n",
    "\n",
    "Visualise the feature importance. \n"
   ]
  },
  {
   "cell_type": "code",
   "execution_count": 11,
   "id": "e5ecec4e",
   "metadata": {},
   "outputs": [],
   "source": [
    "#Write your code here"
   ]
  },
  {
   "cell_type": "markdown",
   "id": "ca3714c4",
   "metadata": {},
   "source": [
    "### 1.3 kNN Classifier [2]\n",
    "Train a kNN classifier in python. \n",
    "\n",
    "Use your code to fit the data given above. "
   ]
  },
  {
   "cell_type": "code",
   "execution_count": 12,
   "id": "830b194e",
   "metadata": {},
   "outputs": [],
   "source": [
    "#Write your code here"
   ]
  },
  {
   "cell_type": "markdown",
   "id": "8eed60d6",
   "metadata": {},
   "source": [
    "## 2 Code Report [6 marks total]\n",
    "In a markdown box, write a short report (no more than 500 words) that describes the workings of your code. "
   ]
  },
  {
   "cell_type": "code",
   "execution_count": 13,
   "id": "b75cde44",
   "metadata": {},
   "outputs": [],
   "source": [
    "#Write your answer here"
   ]
  },
  {
   "cell_type": "markdown",
   "id": "e8f6098d",
   "metadata": {},
   "source": [
    "## 3 Model Questions [14 marks total]\n",
    "Please answer the following questions relating to your classifiers. "
   ]
  },
  {
   "cell_type": "markdown",
   "id": "2b2dbecd",
   "metadata": {},
   "source": [
    "### 3.1 Naïves Bayes Questions [4]\n",
    "Why do zero probabilities in our Naïve Bayes model cause problems? \n",
    "\n",
    "How can we avoid the problem of zero probabilities in our Naïve Bayes model? \n",
    "\n",
    "Please answer in the cell below."
   ]
  },
  {
   "cell_type": "code",
   "execution_count": 14,
   "id": "bde3cad7",
   "metadata": {},
   "outputs": [],
   "source": [
    "#Write your answer here"
   ]
  },
  {
   "cell_type": "markdown",
   "id": "4c2e16b9",
   "metadata": {},
   "source": [
    "### 3.2 Random Forest Questions [6]\n",
    "Which feature is the most important from your random forest classifier? \n",
    "\n",
    "Can any features be removed to increase accuracy of the model, if so which features? \n",
    "\n",
    "Explain why it would be useful to remove these features. \n",
    "\n",
    "Please answer in the cell below."
   ]
  },
  {
   "cell_type": "code",
   "execution_count": 15,
   "id": "7461c10b",
   "metadata": {},
   "outputs": [],
   "source": [
    "#Write your answer here"
   ]
  },
  {
   "cell_type": "markdown",
   "id": "15c9e1b0",
   "metadata": {},
   "source": [
    "### 3.3 kNN Questions [4]\n",
    "Do you think the kNN classifier is best suited to the iris dataset? \n",
    "\n",
    "What ideal qualities would the most appropriate dataset display?  \n",
    "\n",
    "Please answer in the cell below."
   ]
  },
  {
   "cell_type": "code",
   "execution_count": 16,
   "id": "ab102ffb",
   "metadata": {},
   "outputs": [],
   "source": [
    "#Write your answer here"
   ]
  },
  {
   "cell_type": "markdown",
   "id": "6f163e7f",
   "metadata": {},
   "source": [
    "## 4 Comparing Models [18 marks total]\n",
    "Please answer the following questions comparing your classifiers."
   ]
  },
  {
   "cell_type": "markdown",
   "id": "baf7c52b",
   "metadata": {},
   "source": [
    "### 4.1 Compare each model [3]\n",
    "What differences do you see between your Naïve Bayes classifier, your random forest classifier, and your kNN classifier? "
   ]
  },
  {
   "cell_type": "code",
   "execution_count": 17,
   "id": "722085aa",
   "metadata": {},
   "outputs": [],
   "source": [
    "#Write your answer here"
   ]
  },
  {
   "cell_type": "markdown",
   "id": "831d6590",
   "metadata": {},
   "source": [
    "### 4.2 Accuracy [6]\n",
    "Can you explain why there are differences in accuracy between the three classifiers? "
   ]
  },
  {
   "cell_type": "code",
   "execution_count": 18,
   "id": "1cccd475",
   "metadata": {},
   "outputs": [],
   "source": [
    "#Write your answer here"
   ]
  },
  {
   "cell_type": "markdown",
   "id": "f2d47aad",
   "metadata": {},
   "source": [
    "### 4.3 Appropriate Use [9]\n",
    "When would it be appropriate to use each different classifier? \n",
    "\n",
    "Reference real-world situations and examples of specific data sets and explain why that classifier would be most appropriate for that use-case."
   ]
  },
  {
   "cell_type": "code",
   "execution_count": 19,
   "id": "981f2382",
   "metadata": {},
   "outputs": [],
   "source": [
    "#Write your answer here"
   ]
  }
 ],
 "metadata": {
  "kernelspec": {
   "display_name": "Python 3",
   "language": "python",
   "name": "python3"
  },
  "language_info": {
   "codemirror_mode": {
    "name": "ipython",
    "version": 3
   },
   "file_extension": ".py",
   "mimetype": "text/x-python",
   "name": "python",
   "nbconvert_exporter": "python",
   "pygments_lexer": "ipython3",
   "version": "3.7.10"
  }
 },
 "nbformat": 4,
 "nbformat_minor": 5
}
